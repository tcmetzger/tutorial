{
 "cells": [
  {
   "cell_type": "markdown",
   "metadata": {},
   "source": [
    "## Bokeh Setup"
   ]
  },
  {
   "cell_type": "code",
   "execution_count": 330,
   "metadata": {},
   "outputs": [
    {
     "data": {
      "text/html": [
       "\n",
       "    <div class=\"bk-root\">\n",
       "        <a href=\"https://bokeh.org\" target=\"_blank\" class=\"bk-logo bk-logo-small bk-logo-notebook\"></a>\n",
       "        <span id=\"33208\">Loading BokehJS ...</span>\n",
       "    </div>"
      ]
     },
     "metadata": {},
     "output_type": "display_data"
    },
    {
     "data": {
      "application/javascript": "\n(function(root) {\n  function now() {\n    return new Date();\n  }\n\n  const force = true;\n\n  if (typeof root._bokeh_onload_callbacks === \"undefined\" || force === true) {\n    root._bokeh_onload_callbacks = [];\n    root._bokeh_is_loading = undefined;\n  }\n\n  const JS_MIME_TYPE = 'application/javascript';\n  const HTML_MIME_TYPE = 'text/html';\n  const EXEC_MIME_TYPE = 'application/vnd.bokehjs_exec.v0+json';\n  const CLASS_NAME = 'output_bokeh rendered_html';\n\n  /**\n   * Render data to the DOM node\n   */\n  function render(props, node) {\n    const script = document.createElement(\"script\");\n    node.appendChild(script);\n  }\n\n  /**\n   * Handle when an output is cleared or removed\n   */\n  function handleClearOutput(event, handle) {\n    const cell = handle.cell;\n\n    const id = cell.output_area._bokeh_element_id;\n    const server_id = cell.output_area._bokeh_server_id;\n    // Clean up Bokeh references\n    if (id != null && id in Bokeh.index) {\n      Bokeh.index[id].model.document.clear();\n      delete Bokeh.index[id];\n    }\n\n    if (server_id !== undefined) {\n      // Clean up Bokeh references\n      const cmd_clean = \"from bokeh.io.state import curstate; print(curstate().uuid_to_server['\" + server_id + \"'].get_sessions()[0].document.roots[0]._id)\";\n      cell.notebook.kernel.execute(cmd_clean, {\n        iopub: {\n          output: function(msg) {\n            const id = msg.content.text.trim();\n            if (id in Bokeh.index) {\n              Bokeh.index[id].model.document.clear();\n              delete Bokeh.index[id];\n            }\n          }\n        }\n      });\n      // Destroy server and session\n      const cmd_destroy = \"import bokeh.io.notebook as ion; ion.destroy_server('\" + server_id + \"')\";\n      cell.notebook.kernel.execute(cmd_destroy);\n    }\n  }\n\n  /**\n   * Handle when a new output is added\n   */\n  function handleAddOutput(event, handle) {\n    const output_area = handle.output_area;\n    const output = handle.output;\n\n    // limit handleAddOutput to display_data with EXEC_MIME_TYPE content only\n    if ((output.output_type != \"display_data\") || (!Object.prototype.hasOwnProperty.call(output.data, EXEC_MIME_TYPE))) {\n      return\n    }\n\n    const toinsert = output_area.element.find(\".\" + CLASS_NAME.split(' ')[0]);\n\n    if (output.metadata[EXEC_MIME_TYPE][\"id\"] !== undefined) {\n      toinsert[toinsert.length - 1].firstChild.textContent = output.data[JS_MIME_TYPE];\n      // store reference to embed id on output_area\n      output_area._bokeh_element_id = output.metadata[EXEC_MIME_TYPE][\"id\"];\n    }\n    if (output.metadata[EXEC_MIME_TYPE][\"server_id\"] !== undefined) {\n      const bk_div = document.createElement(\"div\");\n      bk_div.innerHTML = output.data[HTML_MIME_TYPE];\n      const script_attrs = bk_div.children[0].attributes;\n      for (let i = 0; i < script_attrs.length; i++) {\n        toinsert[toinsert.length - 1].firstChild.setAttribute(script_attrs[i].name, script_attrs[i].value);\n        toinsert[toinsert.length - 1].firstChild.textContent = bk_div.children[0].textContent\n      }\n      // store reference to server id on output_area\n      output_area._bokeh_server_id = output.metadata[EXEC_MIME_TYPE][\"server_id\"];\n    }\n  }\n\n  function register_renderer(events, OutputArea) {\n\n    function append_mime(data, metadata, element) {\n      // create a DOM node to render to\n      const toinsert = this.create_output_subarea(\n        metadata,\n        CLASS_NAME,\n        EXEC_MIME_TYPE\n      );\n      this.keyboard_manager.register_events(toinsert);\n      // Render to node\n      const props = {data: data, metadata: metadata[EXEC_MIME_TYPE]};\n      render(props, toinsert[toinsert.length - 1]);\n      element.append(toinsert);\n      return toinsert\n    }\n\n    /* Handle when an output is cleared or removed */\n    events.on('clear_output.CodeCell', handleClearOutput);\n    events.on('delete.Cell', handleClearOutput);\n\n    /* Handle when a new output is added */\n    events.on('output_added.OutputArea', handleAddOutput);\n\n    /**\n     * Register the mime type and append_mime function with output_area\n     */\n    OutputArea.prototype.register_mime_type(EXEC_MIME_TYPE, append_mime, {\n      /* Is output safe? */\n      safe: true,\n      /* Index of renderer in `output_area.display_order` */\n      index: 0\n    });\n  }\n\n  // register the mime type if in Jupyter Notebook environment and previously unregistered\n  if (root.Jupyter !== undefined) {\n    const events = require('base/js/events');\n    const OutputArea = require('notebook/js/outputarea').OutputArea;\n\n    if (OutputArea.prototype.mime_types().indexOf(EXEC_MIME_TYPE) == -1) {\n      register_renderer(events, OutputArea);\n    }\n  }\n\n  \n  if (typeof (root._bokeh_timeout) === \"undefined\" || force === true) {\n    root._bokeh_timeout = Date.now() + 5000;\n    root._bokeh_failed_load = false;\n  }\n\n  const NB_LOAD_WARNING = {'data': {'text/html':\n     \"<div style='background-color: #fdd'>\\n\"+\n     \"<p>\\n\"+\n     \"BokehJS does not appear to have successfully loaded. If loading BokehJS from CDN, this \\n\"+\n     \"may be due to a slow or bad network connection. Possible fixes:\\n\"+\n     \"</p>\\n\"+\n     \"<ul>\\n\"+\n     \"<li>re-rerun `output_notebook()` to attempt to load from CDN again, or</li>\\n\"+\n     \"<li>use INLINE resources instead, as so:</li>\\n\"+\n     \"</ul>\\n\"+\n     \"<code>\\n\"+\n     \"from bokeh.resources import INLINE\\n\"+\n     \"output_notebook(resources=INLINE)\\n\"+\n     \"</code>\\n\"+\n     \"</div>\"}};\n\n  function display_loaded() {\n    const el = document.getElementById(\"33208\");\n    if (el != null) {\n      el.textContent = \"BokehJS is loading...\";\n    }\n    if (root.Bokeh !== undefined) {\n      if (el != null) {\n        el.textContent = \"BokehJS \" + root.Bokeh.version + \" successfully loaded.\";\n      }\n    } else if (Date.now() < root._bokeh_timeout) {\n      setTimeout(display_loaded, 100)\n    }\n  }\n\n\n  function run_callbacks() {\n    try {\n      root._bokeh_onload_callbacks.forEach(function(callback) {\n        if (callback != null)\n          callback();\n      });\n    } finally {\n      delete root._bokeh_onload_callbacks\n    }\n    console.debug(\"Bokeh: all callbacks have finished\");\n  }\n\n  function load_libs(css_urls, js_urls, callback) {\n    if (css_urls == null) css_urls = [];\n    if (js_urls == null) js_urls = [];\n\n    root._bokeh_onload_callbacks.push(callback);\n    if (root._bokeh_is_loading > 0) {\n      console.debug(\"Bokeh: BokehJS is being loaded, scheduling callback at\", now());\n      return null;\n    }\n    if (js_urls == null || js_urls.length === 0) {\n      run_callbacks();\n      return null;\n    }\n    console.debug(\"Bokeh: BokehJS not loaded, scheduling load and callback at\", now());\n    root._bokeh_is_loading = css_urls.length + js_urls.length;\n\n    function on_load() {\n      root._bokeh_is_loading--;\n      if (root._bokeh_is_loading === 0) {\n        console.debug(\"Bokeh: all BokehJS libraries/stylesheets loaded\");\n        run_callbacks()\n      }\n    }\n\n    function on_error(url) {\n      console.error(\"failed to load \" + url);\n    }\n\n    for (let i = 0; i < css_urls.length; i++) {\n      const url = css_urls[i];\n      const element = document.createElement(\"link\");\n      element.onload = on_load;\n      element.onerror = on_error.bind(null, url);\n      element.rel = \"stylesheet\";\n      element.type = \"text/css\";\n      element.href = url;\n      console.debug(\"Bokeh: injecting link tag for BokehJS stylesheet: \", url);\n      document.body.appendChild(element);\n    }\n\n    for (let i = 0; i < js_urls.length; i++) {\n      const url = js_urls[i];\n      const element = document.createElement('script');\n      element.onload = on_load;\n      element.onerror = on_error.bind(null, url);\n      element.async = false;\n      element.src = url;\n      console.debug(\"Bokeh: injecting script tag for BokehJS library: \", url);\n      document.head.appendChild(element);\n    }\n  };\n\n  function inject_raw_css(css) {\n    const element = document.createElement(\"style\");\n    element.appendChild(document.createTextNode(css));\n    document.body.appendChild(element);\n  }\n\n  \n  const js_urls = [\"https://cdn.bokeh.org/bokeh/release/bokeh-local.min.js\", \"https://cdn.bokeh.org/bokeh/release/bokeh-gl-local.min.js\", \"https://cdn.bokeh.org/bokeh/release/bokeh-widgets-local.min.js\", \"https://cdn.bokeh.org/bokeh/release/bokeh-tables-local.min.js\", \"https://cdn.bokeh.org/bokeh/release/bokeh-mathjax-local.min.js\"];\n  const css_urls = [];\n  \n\n  const inline_js = [\n    function(Bokeh) {\n      Bokeh.set_log_level(\"info\");\n    },\n    function(Bokeh) {\n    \n    \n    }\n  ];\n\n  function run_inline_js() {\n    \n    if (root.Bokeh !== undefined || force === true) {\n      \n    for (let i = 0; i < inline_js.length; i++) {\n      inline_js[i].call(root, root.Bokeh);\n    }\n    if (force === true) {\n        display_loaded();\n      }} else if (Date.now() < root._bokeh_timeout) {\n      setTimeout(run_inline_js, 100);\n    } else if (!root._bokeh_failed_load) {\n      console.log(\"Bokeh: BokehJS failed to load within specified timeout.\");\n      root._bokeh_failed_load = true;\n    } else if (force !== true) {\n      const cell = $(document.getElementById(\"33208\")).parents('.cell').data().cell;\n      cell.output_area.append_execute_result(NB_LOAD_WARNING)\n    }\n\n  }\n\n  if (root._bokeh_is_loading === 0) {\n    console.debug(\"Bokeh: BokehJS loaded, going straight to plotting\");\n    run_inline_js();\n  } else {\n    load_libs(css_urls, js_urls, function() {\n      console.debug(\"Bokeh: BokehJS plotting callback run at\", now());\n      run_inline_js();\n    });\n  }\n}(window));",
      "application/vnd.bokehjs_load.v0+json": ""
     },
     "metadata": {},
     "output_type": "display_data"
    }
   ],
   "source": [
    "from bokeh.io import output_notebook\n",
    "output_notebook()"
   ]
  },
  {
   "cell_type": "markdown",
   "metadata": {},
   "source": [
    "## Import data\n",
    "source: https://transtats.bts.gov/DL_SelectFields.asp?gnoyr_VQ=FIL&QO_fu146_anzr=Nv4%20Pn44vr45\n",
    "\n",
    "> This table contains domestic market data reported by U.S. air carriers, including carrier, origin, destination, and service class for enplaned passengers, freight and mail when both origin and destination airports are located within the boundaries of the United States and its territories."
   ]
  },
  {
   "cell_type": "code",
   "execution_count": 331,
   "metadata": {},
   "outputs": [
    {
     "data": {
      "text/html": [
       "<div>\n",
       "<style scoped>\n",
       "    .dataframe tbody tr th:only-of-type {\n",
       "        vertical-align: middle;\n",
       "    }\n",
       "\n",
       "    .dataframe tbody tr th {\n",
       "        vertical-align: top;\n",
       "    }\n",
       "\n",
       "    .dataframe thead th {\n",
       "        text-align: right;\n",
       "    }\n",
       "</style>\n",
       "<table border=\"1\" class=\"dataframe\">\n",
       "  <thead>\n",
       "    <tr style=\"text-align: right;\">\n",
       "      <th></th>\n",
       "      <th>PASSENGERS</th>\n",
       "      <th>FREIGHT</th>\n",
       "      <th>MAIL</th>\n",
       "      <th>DISTANCE</th>\n",
       "      <th>UNIQUE_CARRIER</th>\n",
       "      <th>UNIQUE_CARRIER_NAME</th>\n",
       "      <th>CARRIER</th>\n",
       "      <th>CARRIER_NAME</th>\n",
       "      <th>CARRIER_GROUP_NEW</th>\n",
       "      <th>ORIGIN_AIRPORT_ID</th>\n",
       "      <th>...</th>\n",
       "      <th>ORIGIN_STATE_ABR</th>\n",
       "      <th>ORIGIN_STATE_NM</th>\n",
       "      <th>DEST_AIRPORT_ID</th>\n",
       "      <th>DEST</th>\n",
       "      <th>DEST_CITY_NAME</th>\n",
       "      <th>DEST_STATE_ABR</th>\n",
       "      <th>DEST_STATE_NM</th>\n",
       "      <th>YEAR</th>\n",
       "      <th>QUARTER</th>\n",
       "      <th>MONTH</th>\n",
       "    </tr>\n",
       "  </thead>\n",
       "  <tbody>\n",
       "    <tr>\n",
       "      <th>0</th>\n",
       "      <td>0</td>\n",
       "      <td>0</td>\n",
       "      <td>0</td>\n",
       "      <td>1180</td>\n",
       "      <td>AMQ</td>\n",
       "      <td>Ameristar Air Cargo</td>\n",
       "      <td>AMQ</td>\n",
       "      <td>Ameristar Air Cargo</td>\n",
       "      <td>4</td>\n",
       "      <td>10171</td>\n",
       "      <td>...</td>\n",
       "      <td>TX</td>\n",
       "      <td>Texas</td>\n",
       "      <td>14711</td>\n",
       "      <td>SCE</td>\n",
       "      <td>State College, PA</td>\n",
       "      <td>PA</td>\n",
       "      <td>Pennsylvania</td>\n",
       "      <td>2021</td>\n",
       "      <td>1</td>\n",
       "      <td>1</td>\n",
       "    </tr>\n",
       "    <tr>\n",
       "      <th>1</th>\n",
       "      <td>0</td>\n",
       "      <td>0</td>\n",
       "      <td>0</td>\n",
       "      <td>166</td>\n",
       "      <td>AMQ</td>\n",
       "      <td>Ameristar Air Cargo</td>\n",
       "      <td>AMQ</td>\n",
       "      <td>Ameristar Air Cargo</td>\n",
       "      <td>4</td>\n",
       "      <td>11049</td>\n",
       "      <td>...</td>\n",
       "      <td>TX</td>\n",
       "      <td>Texas</td>\n",
       "      <td>10171</td>\n",
       "      <td>ADS</td>\n",
       "      <td>Dallas, TX</td>\n",
       "      <td>TX</td>\n",
       "      <td>Texas</td>\n",
       "      <td>2021</td>\n",
       "      <td>1</td>\n",
       "      <td>1</td>\n",
       "    </tr>\n",
       "    <tr>\n",
       "      <th>2</th>\n",
       "      <td>0</td>\n",
       "      <td>0</td>\n",
       "      <td>0</td>\n",
       "      <td>751</td>\n",
       "      <td>AMQ</td>\n",
       "      <td>Ameristar Air Cargo</td>\n",
       "      <td>AMQ</td>\n",
       "      <td>Ameristar Air Cargo</td>\n",
       "      <td>4</td>\n",
       "      <td>12878</td>\n",
       "      <td>...</td>\n",
       "      <td>IN</td>\n",
       "      <td>Indiana</td>\n",
       "      <td>10171</td>\n",
       "      <td>ADS</td>\n",
       "      <td>Dallas, TX</td>\n",
       "      <td>TX</td>\n",
       "      <td>Texas</td>\n",
       "      <td>2021</td>\n",
       "      <td>1</td>\n",
       "      <td>1</td>\n",
       "    </tr>\n",
       "    <tr>\n",
       "      <th>3</th>\n",
       "      <td>0</td>\n",
       "      <td>0</td>\n",
       "      <td>0</td>\n",
       "      <td>1073</td>\n",
       "      <td>AMQ</td>\n",
       "      <td>Ameristar Air Cargo</td>\n",
       "      <td>AMQ</td>\n",
       "      <td>Ameristar Air Cargo</td>\n",
       "      <td>4</td>\n",
       "      <td>16091</td>\n",
       "      <td>...</td>\n",
       "      <td>MI</td>\n",
       "      <td>Michigan</td>\n",
       "      <td>11049</td>\n",
       "      <td>CLL</td>\n",
       "      <td>College Station/Bryan, TX</td>\n",
       "      <td>TX</td>\n",
       "      <td>Texas</td>\n",
       "      <td>2021</td>\n",
       "      <td>1</td>\n",
       "      <td>1</td>\n",
       "    </tr>\n",
       "    <tr>\n",
       "      <th>4</th>\n",
       "      <td>0</td>\n",
       "      <td>0</td>\n",
       "      <td>0</td>\n",
       "      <td>563</td>\n",
       "      <td>AMQ</td>\n",
       "      <td>Ameristar Air Cargo</td>\n",
       "      <td>AMQ</td>\n",
       "      <td>Ameristar Air Cargo</td>\n",
       "      <td>4</td>\n",
       "      <td>10171</td>\n",
       "      <td>...</td>\n",
       "      <td>TX</td>\n",
       "      <td>Texas</td>\n",
       "      <td>11540</td>\n",
       "      <td>ELP</td>\n",
       "      <td>El Paso, TX</td>\n",
       "      <td>TX</td>\n",
       "      <td>Texas</td>\n",
       "      <td>2021</td>\n",
       "      <td>1</td>\n",
       "      <td>1</td>\n",
       "    </tr>\n",
       "  </tbody>\n",
       "</table>\n",
       "<p>5 rows × 22 columns</p>\n",
       "</div>"
      ],
      "text/plain": [
       "   PASSENGERS  FREIGHT  MAIL  DISTANCE UNIQUE_CARRIER  UNIQUE_CARRIER_NAME  \\\n",
       "0           0        0     0      1180            AMQ  Ameristar Air Cargo   \n",
       "1           0        0     0       166            AMQ  Ameristar Air Cargo   \n",
       "2           0        0     0       751            AMQ  Ameristar Air Cargo   \n",
       "3           0        0     0      1073            AMQ  Ameristar Air Cargo   \n",
       "4           0        0     0       563            AMQ  Ameristar Air Cargo   \n",
       "\n",
       "  CARRIER         CARRIER_NAME  CARRIER_GROUP_NEW  ORIGIN_AIRPORT_ID  ...  \\\n",
       "0     AMQ  Ameristar Air Cargo                  4              10171  ...   \n",
       "1     AMQ  Ameristar Air Cargo                  4              11049  ...   \n",
       "2     AMQ  Ameristar Air Cargo                  4              12878  ...   \n",
       "3     AMQ  Ameristar Air Cargo                  4              16091  ...   \n",
       "4     AMQ  Ameristar Air Cargo                  4              10171  ...   \n",
       "\n",
       "  ORIGIN_STATE_ABR ORIGIN_STATE_NM DEST_AIRPORT_ID DEST  \\\n",
       "0               TX           Texas           14711  SCE   \n",
       "1               TX           Texas           10171  ADS   \n",
       "2               IN         Indiana           10171  ADS   \n",
       "3               MI        Michigan           11049  CLL   \n",
       "4               TX           Texas           11540  ELP   \n",
       "\n",
       "              DEST_CITY_NAME DEST_STATE_ABR DEST_STATE_NM  YEAR QUARTER  MONTH  \n",
       "0          State College, PA             PA  Pennsylvania  2021       1      1  \n",
       "1                 Dallas, TX             TX         Texas  2021       1      1  \n",
       "2                 Dallas, TX             TX         Texas  2021       1      1  \n",
       "3  College Station/Bryan, TX             TX         Texas  2021       1      1  \n",
       "4                El Paso, TX             TX         Texas  2021       1      1  \n",
       "\n",
       "[5 rows x 22 columns]"
      ]
     },
     "execution_count": 331,
     "metadata": {},
     "output_type": "execute_result"
    }
   ],
   "source": [
    "import pandas as pd\n",
    "\n",
    "domestic_carriers_df = pd.read_csv(\n",
    "    \"../data/1035327695_T_T100D_MARKET_US_CARRIER_ONLY.zip\",\n",
    "    compression=\"zip\",\n",
    "    dtype={\n",
    "        \"PASSENGERS\": \"int64\",\n",
    "        \"FREIGHT\": \"int64\",\n",
    "        \"MAIL\": \"int64\",\n",
    "        \"DISTANCE\": \"int64\",\n",
    "        }\n",
    "    )\n",
    "domestic_carriers_df.drop(\"Unnamed: 22\", axis=1, inplace=True)  # TBD ?!\n",
    "domestic_carriers_df.head()"
   ]
  },
  {
   "cell_type": "code",
   "execution_count": 332,
   "metadata": {},
   "outputs": [
    {
     "name": "stdout",
     "output_type": "stream",
     "text": [
      "<class 'pandas.core.frame.DataFrame'>\n",
      "RangeIndex: 176531 entries, 0 to 176530\n",
      "Data columns (total 22 columns):\n",
      " #   Column               Non-Null Count   Dtype \n",
      "---  ------               --------------   ----- \n",
      " 0   PASSENGERS           176531 non-null  int64 \n",
      " 1   FREIGHT              176531 non-null  int64 \n",
      " 2   MAIL                 176531 non-null  int64 \n",
      " 3   DISTANCE             176531 non-null  int64 \n",
      " 4   UNIQUE_CARRIER       176531 non-null  object\n",
      " 5   UNIQUE_CARRIER_NAME  176531 non-null  object\n",
      " 6   CARRIER              176531 non-null  object\n",
      " 7   CARRIER_NAME         176531 non-null  object\n",
      " 8   CARRIER_GROUP_NEW    176531 non-null  int64 \n",
      " 9   ORIGIN_AIRPORT_ID    176531 non-null  int64 \n",
      " 10  ORIGIN               176531 non-null  object\n",
      " 11  ORIGIN_CITY_NAME     176531 non-null  object\n",
      " 12  ORIGIN_STATE_ABR     176531 non-null  object\n",
      " 13  ORIGIN_STATE_NM      176531 non-null  object\n",
      " 14  DEST_AIRPORT_ID      176531 non-null  int64 \n",
      " 15  DEST                 176531 non-null  object\n",
      " 16  DEST_CITY_NAME       176531 non-null  object\n",
      " 17  DEST_STATE_ABR       176531 non-null  object\n",
      " 18  DEST_STATE_NM        176531 non-null  object\n",
      " 19  YEAR                 176531 non-null  int64 \n",
      " 20  QUARTER              176531 non-null  int64 \n",
      " 21  MONTH                176531 non-null  int64 \n",
      "dtypes: int64(10), object(12)\n",
      "memory usage: 29.6+ MB\n"
     ]
    }
   ],
   "source": [
    "domestic_carriers_df.info()"
   ]
  },
  {
   "cell_type": "markdown",
   "metadata": {},
   "source": [
    "## Set constants (to be dynamically set by widgets in the future)"
   ]
  },
  {
   "cell_type": "code",
   "execution_count": 333,
   "metadata": {},
   "outputs": [],
   "source": [
    "MEASUREMENTS = [\"passengers\", \"freight\", \"mail\"]\n",
    "MEASUREMENT = MEASUREMENTS[0]  # So far, MEASUREMENT can only have a single value\n",
    "NUMBER_OF_AIRLINES_TO_CONSIDER = 10"
   ]
  },
  {
   "cell_type": "markdown",
   "metadata": {},
   "source": [
    "## Find N largest carriers by measurement\n"
   ]
  },
  {
   "cell_type": "code",
   "execution_count": 334,
   "metadata": {},
   "outputs": [
    {
     "data": {
      "text/html": [
       "<div>\n",
       "<style scoped>\n",
       "    .dataframe tbody tr th:only-of-type {\n",
       "        vertical-align: middle;\n",
       "    }\n",
       "\n",
       "    .dataframe tbody tr th {\n",
       "        vertical-align: top;\n",
       "    }\n",
       "\n",
       "    .dataframe thead th {\n",
       "        text-align: right;\n",
       "    }\n",
       "</style>\n",
       "<table border=\"1\" class=\"dataframe\">\n",
       "  <thead>\n",
       "    <tr style=\"text-align: right;\">\n",
       "      <th></th>\n",
       "      <th>UNIQUE_CARRIER_NAME</th>\n",
       "      <th>PASSENGERS</th>\n",
       "      <th>POSITION</th>\n",
       "    </tr>\n",
       "  </thead>\n",
       "  <tbody>\n",
       "    <tr>\n",
       "      <th>0</th>\n",
       "      <td>Southwest Airlines Co.</td>\n",
       "      <td>85454969</td>\n",
       "      <td>1</td>\n",
       "    </tr>\n",
       "    <tr>\n",
       "      <th>1</th>\n",
       "      <td>American Airlines Inc.</td>\n",
       "      <td>68955973</td>\n",
       "      <td>2</td>\n",
       "    </tr>\n",
       "    <tr>\n",
       "      <th>2</th>\n",
       "      <td>Delta Air Lines Inc.</td>\n",
       "      <td>64057021</td>\n",
       "      <td>3</td>\n",
       "    </tr>\n",
       "    <tr>\n",
       "      <th>3</th>\n",
       "      <td>United Air Lines Inc.</td>\n",
       "      <td>39160902</td>\n",
       "      <td>4</td>\n",
       "    </tr>\n",
       "    <tr>\n",
       "      <th>4</th>\n",
       "      <td>SkyWest Airlines Inc.</td>\n",
       "      <td>24778440</td>\n",
       "      <td>5</td>\n",
       "    </tr>\n",
       "    <tr>\n",
       "      <th>5</th>\n",
       "      <td>Spirit Air Lines</td>\n",
       "      <td>19973906</td>\n",
       "      <td>6</td>\n",
       "    </tr>\n",
       "    <tr>\n",
       "      <th>6</th>\n",
       "      <td>JetBlue Airways</td>\n",
       "      <td>16188917</td>\n",
       "      <td>7</td>\n",
       "    </tr>\n",
       "    <tr>\n",
       "      <th>7</th>\n",
       "      <td>Alaska Airlines Inc.</td>\n",
       "      <td>15326139</td>\n",
       "      <td>8</td>\n",
       "    </tr>\n",
       "    <tr>\n",
       "      <th>8</th>\n",
       "      <td>Frontier Airlines Inc.</td>\n",
       "      <td>14068241</td>\n",
       "      <td>9</td>\n",
       "    </tr>\n",
       "    <tr>\n",
       "      <th>9</th>\n",
       "      <td>Republic Airline</td>\n",
       "      <td>13085272</td>\n",
       "      <td>10</td>\n",
       "    </tr>\n",
       "  </tbody>\n",
       "</table>\n",
       "</div>"
      ],
      "text/plain": [
       "      UNIQUE_CARRIER_NAME  PASSENGERS  POSITION\n",
       "0  Southwest Airlines Co.    85454969         1\n",
       "1  American Airlines Inc.    68955973         2\n",
       "2    Delta Air Lines Inc.    64057021         3\n",
       "3   United Air Lines Inc.    39160902         4\n",
       "4   SkyWest Airlines Inc.    24778440         5\n",
       "5        Spirit Air Lines    19973906         6\n",
       "6         JetBlue Airways    16188917         7\n",
       "7    Alaska Airlines Inc.    15326139         8\n",
       "8  Frontier Airlines Inc.    14068241         9\n",
       "9        Republic Airline    13085272        10"
      ]
     },
     "execution_count": 334,
     "metadata": {},
     "output_type": "execute_result"
    }
   ],
   "source": [
    "biggest_carriers = domestic_carriers_df.groupby(['UNIQUE_CARRIER_NAME'])[MEASUREMENT.upper()].sum().reset_index()\n",
    "biggest_carriers = biggest_carriers.sort_values(by=MEASUREMENT.upper(), ascending=False)[:NUMBER_OF_AIRLINES_TO_CONSIDER]\n",
    "biggest_carriers[\"POSITION\"] = range(1, len(biggest_carriers) + 1)  # add position column for tooltip\n",
    "biggest_carriers.reset_index(drop=True, inplace=True)\n",
    "biggest_carriers"
   ]
  },
  {
   "cell_type": "markdown",
   "metadata": {},
   "source": [
    "## Plot the N largest carriers by measurement"
   ]
  },
  {
   "cell_type": "code",
   "execution_count": 335,
   "metadata": {},
   "outputs": [
    {
     "data": {
      "text/html": [
       "\n",
       "\n",
       "\n",
       "\n",
       "\n",
       "\n",
       "  <div class=\"bk-root\" id=\"40f3120c-51fd-4a6a-a9c7-1679183189a7\" data-root-id=\"33209\"></div>\n"
      ]
     },
     "metadata": {},
     "output_type": "display_data"
    },
    {
     "data": {
      "application/javascript": "(function(root) {\n  function embed_document(root) {\n    \n  const docs_json = {\"9357b50c-d5c1-40a5-9a8f-89b4094cb48d\":{\"defs\":[],\"roots\":{\"references\":[{\"attributes\":{\"below\":[{\"id\":\"33220\"}],\"center\":[{\"id\":\"33222\"},{\"id\":\"33226\"},{\"id\":\"33259\"}],\"height\":300,\"left\":[{\"id\":\"33223\"}],\"renderers\":[{\"id\":\"33247\"}],\"sizing_mode\":\"stretch_width\",\"title\":{\"id\":\"33210\"},\"toolbar\":{\"id\":\"33235\"},\"x_range\":{\"id\":\"33212\"},\"x_scale\":{\"id\":\"33216\"},\"y_range\":{\"id\":\"33214\"},\"y_scale\":{\"id\":\"33218\"}},\"id\":\"33209\",\"subtype\":\"Figure\",\"type\":\"Plot\"},{\"attributes\":{\"axis\":{\"id\":\"33220\"},\"coordinates\":null,\"grid_line_color\":null,\"group\":null,\"ticker\":null},\"id\":\"33222\",\"type\":\"Grid\"},{\"attributes\":{},\"id\":\"33218\",\"type\":\"LinearScale\"},{\"attributes\":{\"bottom_units\":\"screen\",\"coordinates\":null,\"fill_alpha\":0.5,\"fill_color\":\"lightgrey\",\"group\":null,\"left_units\":\"screen\",\"level\":\"overlay\",\"line_alpha\":1.0,\"line_color\":\"black\",\"line_dash\":[4,4],\"line_width\":2,\"right_units\":\"screen\",\"syncable\":false,\"top_units\":\"screen\"},\"id\":\"33233\",\"type\":\"BoxAnnotation\"},{\"attributes\":{\"data\":{\"top\":[85454969,68955973,64057021,39160902,24778440,19973906,16188917,15326139,14068241,13085272],\"x\":[\"Southwest Airlines Co.\",\"American Airlines Inc.\",\"Delta Air Lines Inc.\",\"United Air Lines Inc.\",\"SkyWest Airlines Inc.\",\"Spirit Air Lines\",\"JetBlue Airways\",\"Alaska Airlines Inc.\",\"Frontier Airlines Inc.\",\"Republic Airline\"]},\"selected\":{\"id\":\"33257\"},\"selection_policy\":{\"id\":\"33256\"}},\"id\":\"33243\",\"type\":\"ColumnDataSource\"},{\"attributes\":{},\"id\":\"33228\",\"type\":\"WheelZoomTool\"},{\"attributes\":{},\"id\":\"33227\",\"type\":\"PanTool\"},{\"attributes\":{\"overlay\":{\"id\":\"33233\"}},\"id\":\"33229\",\"type\":\"BoxZoomTool\"},{\"attributes\":{},\"id\":\"33230\",\"type\":\"SaveTool\"},{\"attributes\":{},\"id\":\"33231\",\"type\":\"ResetTool\"},{\"attributes\":{},\"id\":\"33216\",\"type\":\"CategoricalScale\"},{\"attributes\":{\"coordinates\":null,\"formatter\":{\"id\":\"33254\"},\"group\":null,\"major_label_policy\":{\"id\":\"33255\"},\"ticker\":{\"id\":\"33221\"}},\"id\":\"33220\",\"type\":\"CategoricalAxis\"},{\"attributes\":{\"fill_color\":{\"value\":\"#1f77b4\"},\"line_color\":{\"value\":\"#1f77b4\"},\"top\":{\"field\":\"top\"},\"width\":{\"value\":0.6},\"x\":{\"field\":\"x\"}},\"id\":\"33244\",\"type\":\"VBar\"},{\"attributes\":{},\"id\":\"33256\",\"type\":\"UnionRenderers\"},{\"attributes\":{\"fill_alpha\":{\"value\":0.2},\"fill_color\":{\"value\":\"#1f77b4\"},\"hatch_alpha\":{\"value\":0.2},\"line_alpha\":{\"value\":0.2},\"line_color\":{\"value\":\"#1f77b4\"},\"top\":{\"field\":\"top\"},\"width\":{\"value\":0.6},\"x\":{\"field\":\"x\"}},\"id\":\"33246\",\"type\":\"VBar\"},{\"attributes\":{},\"id\":\"33261\",\"type\":\"NumeralTickFormatter\"},{\"attributes\":{\"factors\":[\"Southwest Airlines Co.\",\"American Airlines Inc.\",\"Delta Air Lines Inc.\",\"United Air Lines Inc.\",\"SkyWest Airlines Inc.\",\"Spirit Air Lines\",\"JetBlue Airways\",\"Alaska Airlines Inc.\",\"Frontier Airlines Inc.\",\"Republic Airline\"]},\"id\":\"33212\",\"type\":\"FactorRange\"},{\"attributes\":{\"fill_alpha\":{\"value\":0.1},\"fill_color\":{\"value\":\"#1f77b4\"},\"hatch_alpha\":{\"value\":0.1},\"line_alpha\":{\"value\":0.1},\"line_color\":{\"value\":\"#1f77b4\"},\"top\":{\"field\":\"top\"},\"width\":{\"value\":0.6},\"x\":{\"field\":\"x\"}},\"id\":\"33245\",\"type\":\"VBar\"},{\"attributes\":{\"source\":{\"id\":\"33243\"}},\"id\":\"33248\",\"type\":\"CDSView\"},{\"attributes\":{\"tools\":[{\"id\":\"33227\"},{\"id\":\"33228\"},{\"id\":\"33229\"},{\"id\":\"33230\"},{\"id\":\"33231\"},{\"id\":\"33232\"},{\"id\":\"33234\"}]},\"id\":\"33235\",\"type\":\"Toolbar\"},{\"attributes\":{\"callback\":null,\"tooltips\":[[\"Index\",\"$index\"],[\"Position\",\"@POSITION\"],[\"Carrier\",\"@x\"],[\"Passengers\",\"@PASSENGERS\"]]},\"id\":\"33234\",\"type\":\"HoverTool\"},{\"attributes\":{\"coordinates\":null,\"data_source\":{\"id\":\"33243\"},\"glyph\":{\"id\":\"33244\"},\"group\":null,\"hover_glyph\":null,\"muted_glyph\":{\"id\":\"33246\"},\"nonselection_glyph\":{\"id\":\"33245\"},\"view\":{\"id\":\"33248\"}},\"id\":\"33247\",\"type\":\"GlyphRenderer\"},{\"attributes\":{},\"id\":\"33254\",\"type\":\"CategoricalTickFormatter\"},{\"attributes\":{\"coordinates\":null,\"group\":null,\"items\":[{\"id\":\"33260\"}]},\"id\":\"33259\",\"type\":\"Legend\"},{\"attributes\":{},\"id\":\"33255\",\"type\":\"AllLabels\"},{\"attributes\":{\"coordinates\":null,\"formatter\":{\"id\":\"33261\"},\"group\":null,\"major_label_policy\":{\"id\":\"33252\"},\"ticker\":{\"id\":\"33224\"}},\"id\":\"33223\",\"type\":\"LinearAxis\"},{\"attributes\":{},\"id\":\"33252\",\"type\":\"AllLabels\"},{\"attributes\":{\"label\":{\"value\":\"Passengers\"},\"renderers\":[{\"id\":\"33247\"}]},\"id\":\"33260\",\"type\":\"LegendItem\"},{\"attributes\":{\"coordinates\":null,\"group\":null,\"text\":\"Top 10 carriers by domestic passengers\"},\"id\":\"33210\",\"type\":\"Title\"},{\"attributes\":{\"axis\":{\"id\":\"33223\"},\"coordinates\":null,\"dimension\":1,\"group\":null,\"ticker\":null},\"id\":\"33226\",\"type\":\"Grid\"},{\"attributes\":{},\"id\":\"33224\",\"type\":\"BasicTicker\"},{\"attributes\":{},\"id\":\"33232\",\"type\":\"HelpTool\"},{\"attributes\":{},\"id\":\"33257\",\"type\":\"Selection\"},{\"attributes\":{},\"id\":\"33214\",\"type\":\"DataRange1d\"},{\"attributes\":{},\"id\":\"33221\",\"type\":\"CategoricalTicker\"}],\"root_ids\":[\"33209\"]},\"title\":\"Bokeh Application\",\"version\":\"2.4.2\"}};\n  const render_items = [{\"docid\":\"9357b50c-d5c1-40a5-9a8f-89b4094cb48d\",\"root_ids\":[\"33209\"],\"roots\":{\"33209\":\"40f3120c-51fd-4a6a-a9c7-1679183189a7\"}}];\n  root.Bokeh.embed.embed_items_notebook(docs_json, render_items);\n\n  }\n  if (root.Bokeh !== undefined) {\n    embed_document(root);\n  } else {\n    let attempts = 0;\n    const timer = setInterval(function(root) {\n      if (root.Bokeh !== undefined) {\n        clearInterval(timer);\n        embed_document(root);\n      } else {\n        attempts++;\n        if (attempts > 100) {\n          clearInterval(timer);\n          console.log(\"Bokeh: ERROR: Unable to run BokehJS code because BokehJS library is missing\");\n        }\n      }\n    }, 10, root)\n  }\n})(window);",
      "application/vnd.bokehjs_exec.v0+json": ""
     },
     "metadata": {
      "application/vnd.bokehjs_exec.v0+json": {
       "id": "33209"
      }
     },
     "output_type": "display_data"
    }
   ],
   "source": [
    "from bokeh.plotting import figure, show\n",
    "from bokeh.models import NumeralTickFormatter\n",
    "\n",
    "plot_title = f\"Top {NUMBER_OF_AIRLINES_TO_CONSIDER} carriers by domestic {MEASUREMENT}\"\n",
    "\n",
    "TOOLTIPS = [\n",
    "    (\"Index\", \"$index\"),  # TBD remove, use position instead. OR: display index + 1\n",
    "    (\"Position\", \"@POSITION\"),  # TBD, use data from POSITION column\n",
    "    (\"Carrier\", \"@x\"),\n",
    "    (MEASUREMENT.capitalize(), \"@PASSENGERS\"),  # TBD, use MEASUREMENT instead\n",
    "]\n",
    "\n",
    "##############\n",
    "# An example of what a tooltip should look like:\n",
    "#\n",
    "# Position: 1\n",
    "# Carrier: United Parcel Service\n",
    "# Mail: 353,580,883\n",
    "#\n",
    "##############\n",
    "\n",
    "p = figure(x_range=biggest_carriers[\"UNIQUE_CARRIER_NAME\"], title=plot_title, height=300, sizing_mode=\"stretch_width\", tooltips=TOOLTIPS)\n",
    "p.vbar(x=biggest_carriers[\"UNIQUE_CARRIER_NAME\"], top=biggest_carriers[MEASUREMENT.upper()], legend_label=MEASUREMENT.capitalize(), width=0.6)\n",
    "\n",
    "p.xgrid.grid_line_color = None\n",
    "p.yaxis.formatter = NumeralTickFormatter(format=\"0,0\")\n",
    "# from math import pi\n",
    "# p.xaxis.major_label_orientation = pi/4  # rotate labels\n",
    "\n",
    "show(p)"
   ]
  },
  {
   "cell_type": "markdown",
   "metadata": {},
   "source": [
    "## Calculate total number of passengers, freight, and mail for each month for N largest carriers"
   ]
  },
  {
   "cell_type": "code",
   "execution_count": 336,
   "metadata": {},
   "outputs": [
    {
     "data": {
      "text/html": [
       "<div>\n",
       "<style scoped>\n",
       "    .dataframe tbody tr th:only-of-type {\n",
       "        vertical-align: middle;\n",
       "    }\n",
       "\n",
       "    .dataframe tbody tr th {\n",
       "        vertical-align: top;\n",
       "    }\n",
       "\n",
       "    .dataframe thead th {\n",
       "        text-align: right;\n",
       "    }\n",
       "</style>\n",
       "<table border=\"1\" class=\"dataframe\">\n",
       "  <thead>\n",
       "    <tr style=\"text-align: right;\">\n",
       "      <th></th>\n",
       "      <th>PASSENGERS</th>\n",
       "      <th>FREIGHT</th>\n",
       "      <th>MAIL</th>\n",
       "    </tr>\n",
       "    <tr>\n",
       "      <th>MONTH</th>\n",
       "      <th></th>\n",
       "      <th></th>\n",
       "      <th></th>\n",
       "    </tr>\n",
       "  </thead>\n",
       "  <tbody>\n",
       "    <tr>\n",
       "      <th>1</th>\n",
       "      <td>20423213</td>\n",
       "      <td>76416978</td>\n",
       "      <td>46710643</td>\n",
       "    </tr>\n",
       "    <tr>\n",
       "      <th>2</th>\n",
       "      <td>20486428</td>\n",
       "      <td>81595930</td>\n",
       "      <td>37970725</td>\n",
       "    </tr>\n",
       "    <tr>\n",
       "      <th>3</th>\n",
       "      <td>33085774</td>\n",
       "      <td>99807707</td>\n",
       "      <td>44170148</td>\n",
       "    </tr>\n",
       "    <tr>\n",
       "      <th>4</th>\n",
       "      <td>36990012</td>\n",
       "      <td>95730688</td>\n",
       "      <td>46005655</td>\n",
       "    </tr>\n",
       "    <tr>\n",
       "      <th>5</th>\n",
       "      <td>44812849</td>\n",
       "      <td>102722167</td>\n",
       "      <td>44660510</td>\n",
       "    </tr>\n",
       "    <tr>\n",
       "      <th>6</th>\n",
       "      <td>50836927</td>\n",
       "      <td>103738042</td>\n",
       "      <td>41593383</td>\n",
       "    </tr>\n",
       "    <tr>\n",
       "      <th>7</th>\n",
       "      <td>56515483</td>\n",
       "      <td>103537892</td>\n",
       "      <td>45956987</td>\n",
       "    </tr>\n",
       "    <tr>\n",
       "      <th>8</th>\n",
       "      <td>51471440</td>\n",
       "      <td>102781501</td>\n",
       "      <td>46324061</td>\n",
       "    </tr>\n",
       "    <tr>\n",
       "      <th>9</th>\n",
       "      <td>46427654</td>\n",
       "      <td>103944129</td>\n",
       "      <td>35114242</td>\n",
       "    </tr>\n",
       "  </tbody>\n",
       "</table>\n",
       "</div>"
      ],
      "text/plain": [
       "       PASSENGERS    FREIGHT      MAIL\n",
       "MONTH                                 \n",
       "1        20423213   76416978  46710643\n",
       "2        20486428   81595930  37970725\n",
       "3        33085774   99807707  44170148\n",
       "4        36990012   95730688  46005655\n",
       "5        44812849  102722167  44660510\n",
       "6        50836927  103738042  41593383\n",
       "7        56515483  103537892  45956987\n",
       "8        51471440  102781501  46324061\n",
       "9        46427654  103944129  35114242"
      ]
     },
     "execution_count": 336,
     "metadata": {},
     "output_type": "execute_result"
    }
   ],
   "source": [
    "\n",
    "# Create dataframe with one line per month. Each line contains the sums of passengers, freight, and mail for each month for N largest carriers for that month.\n",
    "\n",
    "dimensions = [measurement.upper() for measurement in MEASUREMENTS]  # create list of dimensions to create sums for\n",
    "\n",
    "df_monthly = pd.DataFrame()\n",
    "for carrier in biggest_carriers[\"UNIQUE_CARRIER_NAME\"]:\n",
    "    df = domestic_carriers_df[domestic_carriers_df[\"UNIQUE_CARRIER_NAME\"] == carrier].groupby(['MONTH'])[dimensions].sum()\n",
    "    df[\"UNIQUE_CARRIER_NAME\"] = carrier\n",
    "    df_monthly = df_monthly.append(df)\n",
    "\n",
    "df_monthly = df_monthly.groupby(['MONTH']).sum()\n",
    "df_monthly"
   ]
  },
  {
   "cell_type": "markdown",
   "metadata": {},
   "source": [
    "## Plot development of total number of passengers, freight, and mail over time for N largest carriers\n",
    "with interactive legend to mute glyphs"
   ]
  },
  {
   "cell_type": "code",
   "execution_count": 342,
   "metadata": {},
   "outputs": [
    {
     "data": {
      "text/html": [
       "\n",
       "\n",
       "\n",
       "\n",
       "\n",
       "\n",
       "  <div class=\"bk-root\" id=\"5439074f-c98c-4f0a-a3ed-ed8c44074948\" data-root-id=\"38719\"></div>\n"
      ]
     },
     "metadata": {},
     "output_type": "display_data"
    },
    {
     "data": {
      "application/javascript": "(function(root) {\n  function embed_document(root) {\n    \n  const docs_json = {\"1d41df8c-4048-4ad7-9ca2-3f7c1419e722\":{\"defs\":[],\"roots\":{\"references\":[{\"attributes\":{\"below\":[{\"id\":\"38730\"}],\"center\":[{\"id\":\"38733\"},{\"id\":\"38737\"},{\"id\":\"38770\"}],\"height\":300,\"left\":[{\"id\":\"38734\"}],\"renderers\":[{\"id\":\"38758\"},{\"id\":\"38776\"},{\"id\":\"38795\"}],\"sizing_mode\":\"stretch_width\",\"title\":{\"id\":\"38720\"},\"toolbar\":{\"id\":\"38746\"},\"x_range\":{\"id\":\"38722\"},\"x_scale\":{\"id\":\"38726\"},\"y_range\":{\"id\":\"38724\"},\"y_scale\":{\"id\":\"38728\"}},\"id\":\"38719\",\"subtype\":\"Figure\",\"type\":\"Plot\"},{\"attributes\":{},\"id\":\"38728\",\"type\":\"LinearScale\"},{\"attributes\":{\"source\":{\"id\":\"38791\"}},\"id\":\"38796\",\"type\":\"CDSView\"},{\"attributes\":{\"label\":{\"value\":\"Mail\"},\"renderers\":[{\"id\":\"38795\"}]},\"id\":\"38811\",\"type\":\"LegendItem\"},{\"attributes\":{\"line_alpha\":0.1,\"line_color\":\"#2ca02c\",\"line_width\":2,\"x\":{\"field\":\"x\"},\"y\":{\"field\":\"y\"}},\"id\":\"38793\",\"type\":\"Line\"},{\"attributes\":{\"data\":{\"x\":[1,2,3,4,5,6,7,8,9],\"y\":[46710643,37970725,44170148,46005655,44660510,41593383,45956987,46324061,35114242]},\"selected\":{\"id\":\"38809\"},\"selection_policy\":{\"id\":\"38808\"}},\"id\":\"38791\",\"type\":\"ColumnDataSource\"},{\"attributes\":{\"click_policy\":\"mute\",\"coordinates\":null,\"group\":null,\"items\":[{\"id\":\"38771\"},{\"id\":\"38790\"},{\"id\":\"38811\"}]},\"id\":\"38770\",\"type\":\"Legend\"},{\"attributes\":{\"line_alpha\":0.2,\"line_color\":\"#2ca02c\",\"line_width\":2,\"x\":{\"field\":\"x\"},\"y\":{\"field\":\"y\"}},\"id\":\"38794\",\"type\":\"Line\"},{\"attributes\":{\"line_color\":\"#1f77b4\",\"line_width\":2,\"x\":{\"field\":\"x\"},\"y\":{\"field\":\"y\"}},\"id\":\"38755\",\"type\":\"Line\"},{\"attributes\":{\"line_color\":\"#2ca02c\",\"line_width\":2,\"x\":{\"field\":\"x\"},\"y\":{\"field\":\"y\"}},\"id\":\"38792\",\"type\":\"Line\"},{\"attributes\":{\"axis_label\":\"Month\",\"coordinates\":null,\"formatter\":{\"id\":\"38765\"},\"group\":null,\"major_label_policy\":{\"id\":\"38766\"},\"ticker\":{\"id\":\"38731\"}},\"id\":\"38730\",\"type\":\"LinearAxis\"},{\"attributes\":{},\"id\":\"38731\",\"type\":\"BasicTicker\"},{\"attributes\":{\"coordinates\":null,\"data_source\":{\"id\":\"38791\"},\"glyph\":{\"id\":\"38792\"},\"group\":null,\"hover_glyph\":null,\"muted_glyph\":{\"id\":\"38794\"},\"nonselection_glyph\":{\"id\":\"38793\"},\"view\":{\"id\":\"38796\"}},\"id\":\"38795\",\"type\":\"GlyphRenderer\"},{\"attributes\":{},\"id\":\"38768\",\"type\":\"Selection\"},{\"attributes\":{\"bottom_units\":\"screen\",\"coordinates\":null,\"fill_alpha\":0.5,\"fill_color\":\"lightgrey\",\"group\":null,\"left_units\":\"screen\",\"level\":\"overlay\",\"line_alpha\":1.0,\"line_color\":\"black\",\"line_dash\":[4,4],\"line_width\":2,\"right_units\":\"screen\",\"syncable\":false,\"top_units\":\"screen\"},\"id\":\"38744\",\"type\":\"BoxAnnotation\"},{\"attributes\":{},\"id\":\"38726\",\"type\":\"LinearScale\"},{\"attributes\":{},\"id\":\"38767\",\"type\":\"UnionRenderers\"},{\"attributes\":{},\"id\":\"38722\",\"type\":\"DataRange1d\"},{\"attributes\":{},\"id\":\"38739\",\"type\":\"WheelZoomTool\"},{\"attributes\":{},\"id\":\"38743\",\"type\":\"HelpTool\"},{\"attributes\":{\"overlay\":{\"id\":\"38744\"}},\"id\":\"38740\",\"type\":\"BoxZoomTool\"},{\"attributes\":{},\"id\":\"38738\",\"type\":\"PanTool\"},{\"attributes\":{},\"id\":\"38742\",\"type\":\"ResetTool\"},{\"attributes\":{},\"id\":\"38787\",\"type\":\"UnionRenderers\"},{\"attributes\":{\"axis\":{\"id\":\"38734\"},\"coordinates\":null,\"dimension\":1,\"group\":null,\"ticker\":null},\"id\":\"38737\",\"type\":\"Grid\"},{\"attributes\":{},\"id\":\"38812\",\"type\":\"NumeralTickFormatter\"},{\"attributes\":{},\"id\":\"38766\",\"type\":\"AllLabels\"},{\"attributes\":{\"line_alpha\":0.2,\"line_color\":\"#1f77b4\",\"line_width\":2,\"x\":{\"field\":\"x\"},\"y\":{\"field\":\"y\"}},\"id\":\"38757\",\"type\":\"Line\"},{\"attributes\":{\"label\":{\"value\":\"Passengers\"},\"renderers\":[{\"id\":\"38758\"}]},\"id\":\"38771\",\"type\":\"LegendItem\"},{\"attributes\":{\"data\":{\"x\":[1,2,3,4,5,6,7,8,9],\"y\":[20423213,20486428,33085774,36990012,44812849,50836927,56515483,51471440,46427654]},\"selected\":{\"id\":\"38768\"},\"selection_policy\":{\"id\":\"38767\"}},\"id\":\"38754\",\"type\":\"ColumnDataSource\"},{\"attributes\":{\"coordinates\":null,\"data_source\":{\"id\":\"38772\"},\"glyph\":{\"id\":\"38773\"},\"group\":null,\"hover_glyph\":null,\"muted_glyph\":{\"id\":\"38775\"},\"nonselection_glyph\":{\"id\":\"38774\"},\"view\":{\"id\":\"38777\"}},\"id\":\"38776\",\"type\":\"GlyphRenderer\"},{\"attributes\":{\"line_color\":\"#ff7f0e\",\"line_width\":2,\"x\":{\"field\":\"x\"},\"y\":{\"field\":\"y\"}},\"id\":\"38773\",\"type\":\"Line\"},{\"attributes\":{\"coordinates\":null,\"group\":null,\"text\":\"Development of domestic passengers, freight, and mail for the top 10 carriers\"},\"id\":\"38720\",\"type\":\"Title\"},{\"attributes\":{\"source\":{\"id\":\"38754\"}},\"id\":\"38759\",\"type\":\"CDSView\"},{\"attributes\":{\"line_alpha\":0.2,\"line_color\":\"#ff7f0e\",\"line_width\":2,\"x\":{\"field\":\"x\"},\"y\":{\"field\":\"y\"}},\"id\":\"38775\",\"type\":\"Line\"},{\"attributes\":{\"data\":{\"x\":[1,2,3,4,5,6,7,8,9],\"y\":[76416978,81595930,99807707,95730688,102722167,103738042,103537892,102781501,103944129]},\"selected\":{\"id\":\"38788\"},\"selection_policy\":{\"id\":\"38787\"}},\"id\":\"38772\",\"type\":\"ColumnDataSource\"},{\"attributes\":{\"coordinates\":null,\"formatter\":{\"id\":\"38812\"},\"group\":null,\"major_label_policy\":{\"id\":\"38763\"},\"ticker\":{\"id\":\"38735\"}},\"id\":\"38734\",\"type\":\"LinearAxis\"},{\"attributes\":{},\"id\":\"38765\",\"type\":\"BasicTickFormatter\"},{\"attributes\":{\"label\":{\"value\":\"Freight\"},\"renderers\":[{\"id\":\"38776\"}]},\"id\":\"38790\",\"type\":\"LegendItem\"},{\"attributes\":{\"source\":{\"id\":\"38772\"}},\"id\":\"38777\",\"type\":\"CDSView\"},{\"attributes\":{},\"id\":\"38788\",\"type\":\"Selection\"},{\"attributes\":{},\"id\":\"38808\",\"type\":\"UnionRenderers\"},{\"attributes\":{\"line_alpha\":0.1,\"line_color\":\"#ff7f0e\",\"line_width\":2,\"x\":{\"field\":\"x\"},\"y\":{\"field\":\"y\"}},\"id\":\"38774\",\"type\":\"Line\"},{\"attributes\":{},\"id\":\"38741\",\"type\":\"SaveTool\"},{\"attributes\":{},\"id\":\"38809\",\"type\":\"Selection\"},{\"attributes\":{},\"id\":\"38763\",\"type\":\"AllLabels\"},{\"attributes\":{\"callback\":null,\"tooltips\":[[\"Month\",\"$index\"],[\"Amount\",\"@y{(0,0)}\"]]},\"id\":\"38745\",\"type\":\"HoverTool\"},{\"attributes\":{\"axis\":{\"id\":\"38730\"},\"coordinates\":null,\"group\":null,\"ticker\":null},\"id\":\"38733\",\"type\":\"Grid\"},{\"attributes\":{\"line_alpha\":0.1,\"line_color\":\"#1f77b4\",\"line_width\":2,\"x\":{\"field\":\"x\"},\"y\":{\"field\":\"y\"}},\"id\":\"38756\",\"type\":\"Line\"},{\"attributes\":{\"tools\":[{\"id\":\"38738\"},{\"id\":\"38739\"},{\"id\":\"38740\"},{\"id\":\"38741\"},{\"id\":\"38742\"},{\"id\":\"38743\"},{\"id\":\"38745\"}]},\"id\":\"38746\",\"type\":\"Toolbar\"},{\"attributes\":{},\"id\":\"38735\",\"type\":\"BasicTicker\"},{\"attributes\":{},\"id\":\"38724\",\"type\":\"DataRange1d\"},{\"attributes\":{\"coordinates\":null,\"data_source\":{\"id\":\"38754\"},\"glyph\":{\"id\":\"38755\"},\"group\":null,\"hover_glyph\":null,\"muted_glyph\":{\"id\":\"38757\"},\"nonselection_glyph\":{\"id\":\"38756\"},\"view\":{\"id\":\"38759\"}},\"id\":\"38758\",\"type\":\"GlyphRenderer\"}],\"root_ids\":[\"38719\"]},\"title\":\"Bokeh Application\",\"version\":\"2.4.2\"}};\n  const render_items = [{\"docid\":\"1d41df8c-4048-4ad7-9ca2-3f7c1419e722\",\"root_ids\":[\"38719\"],\"roots\":{\"38719\":\"5439074f-c98c-4f0a-a3ed-ed8c44074948\"}}];\n  root.Bokeh.embed.embed_items_notebook(docs_json, render_items);\n\n  }\n  if (root.Bokeh !== undefined) {\n    embed_document(root);\n  } else {\n    let attempts = 0;\n    const timer = setInterval(function(root) {\n      if (root.Bokeh !== undefined) {\n        clearInterval(timer);\n        embed_document(root);\n      } else {\n        attempts++;\n        if (attempts > 100) {\n          clearInterval(timer);\n          console.log(\"Bokeh: ERROR: Unable to run BokehJS code because BokehJS library is missing\");\n        }\n      }\n    }, 10, root)\n  }\n})(window);",
      "application/vnd.bokehjs_exec.v0+json": ""
     },
     "metadata": {
      "application/vnd.bokehjs_exec.v0+json": {
       "id": "38719"
      }
     },
     "output_type": "display_data"
    }
   ],
   "source": [
    "from bokeh.palettes import Category10\n",
    "from bokeh.plotting import figure, show\n",
    "from bokeh.models import NumeralTickFormatter\n",
    "\n",
    "plot_title = f\"Development of domestic passengers, freight, and mail for the top {NUMBER_OF_AIRLINES_TO_CONSIDER} carriers\"\n",
    "\n",
    "TOOLTIPS = [\n",
    "    (\"Month\", \"$index\"),\n",
    "    (\"Amount\", \"@y{(0,0)}\"),\n",
    "]\n",
    "\n",
    "p = figure(title=plot_title, height=300, sizing_mode=\"stretch_width\", tooltips=TOOLTIPS)\n",
    "\n",
    "color = 0\n",
    "for measurement in MEASUREMENTS:\n",
    "    p.line(df_monthly.index, df_monthly[measurement.upper()], legend_label=measurement.capitalize(), width=2, color=Category10[3][color], alpha=1, muted_alpha=0.2)\n",
    "    color += 1\n",
    "\n",
    "p.yaxis.formatter = NumeralTickFormatter(format=\"0,0\")\n",
    "p.xaxis.axis_label = \"Month\"  # TBD: x axis ticks display months, optimally month names\n",
    "p.legend.click_policy=\"mute\"\n",
    "\n",
    "show(p)"
   ]
  },
  {
   "cell_type": "code",
   "execution_count": null,
   "metadata": {},
   "outputs": [],
   "source": []
  }
 ],
 "metadata": {
  "interpreter": {
   "hash": "7b4f3a2c0dbe3c72ebcc9c5c9024d5cf77fda3f3f077a0d592a6415646abf4d8"
  },
  "kernelspec": {
   "display_name": "Python 3.10.1 64-bit ('bk-tutorials': conda)",
   "language": "python",
   "name": "python3"
  },
  "language_info": {
   "codemirror_mode": {
    "name": "ipython",
    "version": 3
   },
   "file_extension": ".py",
   "mimetype": "text/x-python",
   "name": "python",
   "nbconvert_exporter": "python",
   "pygments_lexer": "ipython3",
   "version": "3.10.2"
  },
  "orig_nbformat": 4
 },
 "nbformat": 4,
 "nbformat_minor": 2
}
